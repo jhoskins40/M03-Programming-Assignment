{
 "cells": [
  {
   "cell_type": "code",
   "execution_count": 5,
   "id": "9875f9f6",
   "metadata": {},
   "outputs": [
    {
     "name": "stdout",
     "output_type": "stream",
     "text": [
      "['MOZZARELLA', 'Cinderella']\n"
     ]
    }
   ],
   "source": [
    "#7.4 Make a list called things with these three strings as elements:\n",
    "#\"mozzarella\", \"cinderella\", \"salmonella\".\n",
    "\n",
    "#7.5 Capitalize the element in things that refers to a person and\n",
    "#then print the list. Did it change the element in the list?\n",
    "\n",
    "#7.6 Make the cheesy element of things all uppercase and then print\n",
    "#the list.\n",
    "\n",
    "#7.7 Delete the disease element from things, collect your Nobel Prize,\n",
    "#and print the list.\n",
    "\n",
    "things_list = [\"MOZZARELLA\", \"Cinderella\"]\n",
    "print(things_list)\n",
    "\n",
    "#7.4['mozzarella', 'cinderella', 'salmonella']\n",
    "#7.5['mozzarella', 'Cinderella', 'salmonella']\n",
    "#7.6['MOZZARELLA', 'Cinderella', 'salmonella']\n",
    "#7.7['MOZZARELLA', 'Cinderella']"
   ]
  },
  {
   "cell_type": "code",
   "execution_count": 6,
   "id": "6f55aac4",
   "metadata": {},
   "outputs": [
    {
     "name": "stdout",
     "output_type": "stream",
     "text": [
      "Harry\n",
      "Ron\n",
      "Hermoine\n"
     ]
    }
   ],
   "source": [
    "#9.1 Define a function called good() that returns the following list: ['Harry', 'Ron', 'Hermione'].\n",
    "\n",
    "def my_function(good):\n",
    "    for x in good:\n",
    "        print(x)\n",
    "friends = [\"Harry\" , \"Ron\" , \"Hermoine\"]\n",
    "my_function(friends)"
   ]
  },
  {
   "cell_type": "code",
   "execution_count": 17,
   "id": "5b291efd",
   "metadata": {},
   "outputs": [
    {
     "name": "stdout",
     "output_type": "stream",
     "text": [
      "1\n",
      "3\n",
      "5\n",
      "7\n",
      "9\n"
     ]
    }
   ],
   "source": [
    "#9.2 Define a generator function called get_odds() that returns the odd numbers from range(10). \n",
    "#Use a for loop to find and print the third value returned.\n",
    "\n",
    "def get_odds():\n",
    "    yield (i for i in range(10) if i % 2 != 0)\n",
    "for i in next(get_odds()):\n",
    "    print(i)\n",
    "    \n",
    "#can't figure out how to print the third value. "
   ]
  },
  {
   "cell_type": "code",
   "execution_count": null,
   "id": "bd44673a",
   "metadata": {},
   "outputs": [],
   "source": []
  },
  {
   "cell_type": "code",
   "execution_count": null,
   "id": "12d53731",
   "metadata": {},
   "outputs": [],
   "source": []
  }
 ],
 "metadata": {
  "kernelspec": {
   "display_name": "Python 3 (ipykernel)",
   "language": "python",
   "name": "python3"
  },
  "language_info": {
   "codemirror_mode": {
    "name": "ipython",
    "version": 3
   },
   "file_extension": ".py",
   "mimetype": "text/x-python",
   "name": "python",
   "nbconvert_exporter": "python",
   "pygments_lexer": "ipython3",
   "version": "3.10.9"
  }
 },
 "nbformat": 4,
 "nbformat_minor": 5
}
